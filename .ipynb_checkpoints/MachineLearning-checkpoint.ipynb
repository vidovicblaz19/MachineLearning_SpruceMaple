{
 "cells": [
  {
   "cell_type": "markdown",
   "metadata": {},
   "source": [
    "# Razlikovanje med smreko in rdečim Javorjem"
   ]
  },
  {
   "cell_type": "code",
   "execution_count": 1,
   "metadata": {},
   "outputs": [],
   "source": [
    "import math\n",
    "import numpy as np\n",
    "import random\n",
    "import os\n",
    "import cv2\n",
    "import tensorflow as tf\n",
    "import matplotlib.pyplot as plt\n",
    "from tensorflow.keras.models import Sequential\n",
    "from tensorflow.keras.layers import Dense, Dropout, Activation, Flatten, Conv2D, MaxPooling2D\n",
    "from tensorflow.keras.callbacks import TensorBoard"
   ]
  },
  {
   "cell_type": "markdown",
   "metadata": {},
   "source": [
    "# Zmanjšam velikost slik"
   ]
  },
  {
   "cell_type": "code",
   "execution_count": 2,
   "metadata": {},
   "outputs": [],
   "source": [
    "NAME = \"maple_vs_spruce_rotated\"\n",
    "tensorBoard = TensorBoard(log_dir=\"logs\\\\{}\".format(NAME))\n",
    "DATADIR = \"DataSets\"\n",
    "CATEGORIES = [\"maple\", \"spruce\"]\n",
    "IMG_SIZE = 80"
   ]
  },
  {
   "cell_type": "code",
   "execution_count": 3,
   "metadata": {},
   "outputs": [],
   "source": [
    "def create_training_data():\n",
    "    training_data = []\n",
    "    for category in CATEGORIES:\n",
    "            path = os.path.join(DATADIR, category)\n",
    "            class_num = CATEGORIES.index(category) #shranim kategorijo slikam za treniranje\n",
    "            for img in os.listdir(path):\n",
    "                try:\n",
    "                    img_array = cv2.imread(os.path.join(path, img), cv2.IMREAD_GRAYSCALE)\n",
    "                    new_array = cv2.resize(img_array, (IMG_SIZE, IMG_SIZE))\n",
    "                    training_data.append([new_array, class_num])\n",
    "                except Exception as e:\n",
    "                    pass\n",
    "    \n",
    "    return training_data"
   ]
  },
  {
   "cell_type": "markdown",
   "metadata": {},
   "source": [
    "Za večje št. slik jih še obračam"
   ]
  },
  {
   "cell_type": "code",
   "execution_count": 4,
   "metadata": {},
   "outputs": [],
   "source": [
    "def rotate_image(image, angle):\n",
    "\n",
    "    # Pridobim velikost slike\n",
    "    image_size = (image.shape[1], image.shape[0])\n",
    "    image_center = tuple(np.array(image_size) / 2)\n",
    "\n",
    "    # Pretvorim OpenCV 3x2 v 3x3\n",
    "    rot_mat = np.vstack([cv2.getRotationMatrix2D(image_center, angle, 1.0), [0, 0, 1]])\n",
    "    rot_mat_notranslate = np.matrix(rot_mat[0:2, 0:2])\n",
    "\n",
    "    image_w2 = image_size[0] * 0.5\n",
    "    image_h2 = image_size[1] * 0.5\n",
    "\n",
    "    # Pridobim koordinate kotov rotirane slike\n",
    "    rotated_coords = [\n",
    "        (np.array([-image_w2, image_h2]) * rot_mat_notranslate).A[0],\n",
    "        (np.array([image_w2, image_h2]) * rot_mat_notranslate).A[0],\n",
    "        (np.array([-image_w2, -image_h2]) * rot_mat_notranslate).A[0],\n",
    "        (np.array([image_w2, -image_h2]) * rot_mat_notranslate).A[0]\n",
    "    ]\n",
    "\n",
    "    # pridobim velikost zavrtene slike\n",
    "    x_coords = [pt[0] for pt in rotated_coords]\n",
    "    x_pos = [x for x in x_coords if x > 0]\n",
    "    x_neg = [x for x in x_coords if x < 0]\n",
    "\n",
    "    y_coords = [pt[1] for pt in rotated_coords]\n",
    "    y_pos = [y for y in y_coords if y > 0]\n",
    "    y_neg = [y for y in y_coords if y < 0]\n",
    "\n",
    "    #pridobim robove nove slike, ki vsebuje rotirano sliko\n",
    "    right_bound = max(x_pos)\n",
    "    left_bound = min(x_neg)\n",
    "    top_bound = max(y_pos)\n",
    "    bot_bound = min(y_neg)\n",
    "\n",
    "    new_w = int(abs(right_bound - left_bound))\n",
    "    new_h = int(abs(top_bound - bot_bound))\n",
    "\n",
    "    # Translacijska matrika centrira novo sliko\n",
    "    trans_mat = np.matrix([\n",
    "        [1, 0, int(new_w * 0.5 - image_w2)],\n",
    "        [0, 1, int(new_h * 0.5 - image_h2)],\n",
    "        [0, 0, 1]\n",
    "    ])\n",
    "\n",
    "    # Prilagodim transformacija glede na translacijo in rotacijo\n",
    "    affine_mat = (np.matrix(trans_mat) * np.matrix(rot_mat))[0:2, :]\n",
    "\n",
    "    result = cv2.warpAffine(\n",
    "        image,\n",
    "        affine_mat,\n",
    "        (new_w, new_h),\n",
    "        flags=cv2.INTER_LINEAR\n",
    "    )\n",
    "    \n",
    "    return result"
   ]
  },
  {
   "cell_type": "code",
   "execution_count": 5,
   "metadata": {},
   "outputs": [],
   "source": [
    "def largest_rotated_rect(w, h, angle):\n",
    "    \"\"\"\n",
    "    Given a rectangle of size wxh that has been rotated by 'angle',\n",
    "    computes the width and height of the largest possible\n",
    "    axis-aligned rectangle within the rotated rectangle.\n",
    "\n",
    "    Original JS code by 'Andri' and Magnus Hoff from Stack Overflow\n",
    "    Converted to Python by Aaron Snoswell\n",
    "    \"\"\"\n",
    "\n",
    "    quadrant = int(math.floor(angle / (math.pi / 2))) & 3\n",
    "    sign_alpha = angle if ((quadrant & 1) == 0) else math.pi - angle\n",
    "    alpha = (sign_alpha % math.pi + math.pi) % math.pi\n",
    "\n",
    "    bb_w = w * math.cos(alpha) + h * math.sin(alpha)\n",
    "    bb_h = w * math.sin(alpha) + h * math.cos(alpha)\n",
    "\n",
    "    gamma = math.atan2(bb_w, bb_w) if (w < h) else math.atan2(bb_w, bb_w)\n",
    "\n",
    "    delta = math.pi - alpha - gamma\n",
    "\n",
    "    length = h if (w < h) else w\n",
    "\n",
    "    d = length * math.cos(alpha)\n",
    "    a = d * math.sin(alpha) / math.sin(delta)\n",
    "\n",
    "    y = a * math.cos(gamma)\n",
    "    x = y * math.tan(gamma)\n",
    "\n",
    "    return (\n",
    "        bb_w - 2 * x,\n",
    "        bb_h - 2 * y\n",
    "    )"
   ]
  },
  {
   "cell_type": "code",
   "execution_count": 6,
   "metadata": {},
   "outputs": [],
   "source": [
    "def crop_around_center(image, width, height):\n",
    "\n",
    "    image_size = (image.shape[1], image.shape[0])\n",
    "    image_center = (int(image_size[0] * 0.5), int(image_size[1] * 0.5))\n",
    "\n",
    "    if width > image_size[0]:\n",
    "        width = image_size[0]\n",
    "\n",
    "    if height > image_size[1]:\n",
    "        height = image_size[1]\n",
    "\n",
    "    x1 = int(image_center[0] - width * 0.5)\n",
    "    x2 = int(image_center[0] + width * 0.5)\n",
    "    y1 = int(image_center[1] - height * 0.5)\n",
    "    y2 = int(image_center[1] + height * 0.5)\n",
    "\n",
    "    return image[y1:y2, x1:x2]"
   ]
  },
  {
   "cell_type": "markdown",
   "metadata": {},
   "source": [
    "V nov array dodam vse slike"
   ]
  },
  {
   "cell_type": "code",
   "execution_count": 7,
   "metadata": {},
   "outputs": [],
   "source": [
    "def expand_data(data):\n",
    "\n",
    "    expdata = data\n",
    "\n",
    "    for x in range(0, len(data)):\n",
    "        image = data[x][0]\n",
    "        category = data[x][1]\n",
    "        image_height, image_width = image.shape[0:2]\n",
    "\n",
    "        for i in np.arange(0, 360, 10):\n",
    "            image_rotated = rotate_image(image, i)\n",
    "            image_rotated_cropped = crop_around_center(\n",
    "                image_rotated,\n",
    "                *largest_rotated_rect(\n",
    "                    image_width,\n",
    "                    image_height,\n",
    "                    math.radians(i)\n",
    "                )\n",
    "            )\n",
    "            expdata.append([cv2.resize(image_rotated_cropped, (IMG_SIZE, IMG_SIZE)), category])\n",
    "\n",
    "    print(\"Done\")\n",
    "    return expdata"
   ]
  },
  {
   "cell_type": "markdown",
   "metadata": {},
   "source": [
    "### Ustvarimo layerje za model\n",
    "    -kako dobro deluje naš model oziroma kako natančno lahko loči med slikami lahko pogledamo tako, da v terminal vpišemo: \n",
    "    $ tensorboard --logdir=logs/\n",
    "    -to nam ustvari link do spletne strani, kjer lahko na grafih vidimo kako dobro deluje naša nevronska mreža"
   ]
  },
  {
   "cell_type": "code",
   "execution_count": 8,
   "metadata": {},
   "outputs": [],
   "source": [
    "def create_model(data):\n",
    "    x = []\n",
    "    y = []\n",
    "\n",
    "    for features, label in data:\n",
    "        x.append(features)\n",
    "        y.append(label)\n",
    "\n",
    "    x = np.array(x).reshape(-1, IMG_SIZE, IMG_SIZE, 1)\n",
    "    x = x / 255.0\n",
    "    y = np.array(y)\n",
    "    \n",
    "    model = Sequential()\n",
    "\n",
    "    model.add(Conv2D(64, (3, 3), input_shape=x.shape[1:]))\n",
    "    model.add(Activation('relu')) #rectified linear activation\n",
    "    model.add(MaxPooling2D(pool_size=(2, 2))) \n",
    "\n",
    "    model.add(Conv2D(64, (3, 3)))\n",
    "    model.add(Activation('relu'))\n",
    "    model.add(MaxPooling2D(pool_size=(2, 2)))\n",
    "\n",
    "    model.add(Flatten())\n",
    "    \n",
    "    model.add(Dense(64))\n",
    "    model.add(Activation('relu'))\n",
    "        \n",
    "    model.add(Dense(1))\n",
    "    model.add(Activation('sigmoid')) \n",
    "    \n",
    "    model.compile(loss=\"binary_crossentropy\",\n",
    "                optimizer=\"adam\",\n",
    "                metrics=[\"accuracy\"],\n",
    "                )\n",
    "\n",
    "    model.fit(x, y,\n",
    "            batch_size=32,\n",
    "            epochs=4,\n",
    "            validation_split=0.11,\n",
    "            callbacks=[tensorBoard])\n",
    "            \n",
    "    return model\n"
   ]
  },
  {
   "cell_type": "markdown",
   "metadata": {},
   "source": [
    "Testiram, razpoznavanje"
   ]
  },
  {
   "cell_type": "code",
   "execution_count": 9,
   "metadata": {},
   "outputs": [],
   "source": [
    "def prepare(file_path):\n",
    "    IMG_SIZE = 80\n",
    "    img_array = cv2.imread(file_path, cv2.IMREAD_GRAYSCALE)\n",
    "    new_array = cv2.resize(img_array, (IMG_SIZE, IMG_SIZE))\n",
    "    return new_array.reshape(-1, IMG_SIZE, IMG_SIZE, 1)/255"
   ]
  },
  {
   "cell_type": "code",
   "execution_count": 10,
   "metadata": {},
   "outputs": [
    {
     "name": "stdout",
     "output_type": "stream",
     "text": [
      "Done\n",
      "Train on 6487 samples, validate on 802 samples\n",
      "Epoch 1/4\n",
      "6487/6487 [==============================] - 34s 5ms/sample - loss: 0.4130 - accuracy: 0.8061 - val_loss: 0.3124 - val_accuracy: 0.8753\n",
      "Epoch 2/4\n",
      "6487/6487 [==============================] - 33s 5ms/sample - loss: 0.2210 - accuracy: 0.9086 - val_loss: 0.2438 - val_accuracy: 0.9102\n",
      "Epoch 3/4\n",
      "6487/6487 [==============================] - 33s 5ms/sample - loss: 0.1871 - accuracy: 0.9240 - val_loss: 0.1824 - val_accuracy: 0.9352\n",
      "Epoch 4/4\n",
      "6487/6487 [==============================] - 34s 5ms/sample - loss: 0.1119 - accuracy: 0.9565 - val_loss: 0.1346 - val_accuracy: 0.9514\n"
     ]
    }
   ],
   "source": [
    "trainingData = create_training_data()   # dobi slike in jih pomanjsaj\n",
    "expandedData = expand_data(trainingData)       # rotate slike in jih dodaj v polje\n",
    "random.shuffle(expandedData)            # pomešaj slike\n",
    "model = create_model(expandedData)      # ustvari model"
   ]
  },
  {
   "cell_type": "code",
   "execution_count": 11,
   "metadata": {
    "scrolled": true
   },
   "outputs": [
    {
     "name": "stdout",
     "output_type": "stream",
     "text": [
      "0\n",
      "maple\n"
     ]
    }
   ],
   "source": [
    "prediction = model.predict([prepare('Test/maple1.jpg')])\n",
    "if prediction < 0.5: i = 0\n",
    "else: i = 1\n",
    "print(i)\n",
    "print(CATEGORIES[i])"
   ]
  },
  {
   "cell_type": "code",
   "execution_count": 12,
   "metadata": {},
   "outputs": [
    {
     "name": "stdout",
     "output_type": "stream",
     "text": [
      "0\n",
      "maple\n"
     ]
    }
   ],
   "source": [
    "prediction = model.predict([prepare('Test/maple2.jpg')])\n",
    "if prediction < 0.5: i = 0\n",
    "else: i = 1\n",
    "print(i)\n",
    "print(CATEGORIES[i])"
   ]
  },
  {
   "cell_type": "code",
   "execution_count": 13,
   "metadata": {},
   "outputs": [
    {
     "name": "stdout",
     "output_type": "stream",
     "text": [
      "0\n",
      "maple\n"
     ]
    }
   ],
   "source": [
    "prediction = model.predict([prepare('Test/maple3.jpg')])\n",
    "if prediction < 0.5: i = 0\n",
    "else: i = 1\n",
    "print(i)\n",
    "print(CATEGORIES[i])"
   ]
  },
  {
   "cell_type": "code",
   "execution_count": 14,
   "metadata": {},
   "outputs": [
    {
     "name": "stdout",
     "output_type": "stream",
     "text": [
      "0\n",
      "maple\n"
     ]
    }
   ],
   "source": [
    "prediction = model.predict([prepare('Test/maple4.jpg')])\n",
    "if prediction < 0.5: i = 0\n",
    "else: i = 1\n",
    "print(i)\n",
    "print(CATEGORIES[i])"
   ]
  },
  {
   "cell_type": "code",
   "execution_count": 15,
   "metadata": {},
   "outputs": [
    {
     "name": "stdout",
     "output_type": "stream",
     "text": [
      "1\n",
      "spruce\n"
     ]
    }
   ],
   "source": [
    "prediction = model.predict([prepare('Test/spruce1.jpg')])\n",
    "if prediction < 0.5: i = 0\n",
    "else: i = 1\n",
    "print(i)\n",
    "print(CATEGORIES[i])"
   ]
  },
  {
   "cell_type": "code",
   "execution_count": 16,
   "metadata": {},
   "outputs": [
    {
     "name": "stdout",
     "output_type": "stream",
     "text": [
      "1\n",
      "spruce\n"
     ]
    }
   ],
   "source": [
    "prediction = model.predict([prepare('Test/spruce2.jpg')])\n",
    "if prediction < 0.5: i = 0\n",
    "else: i = 1\n",
    "print(i)\n",
    "print(CATEGORIES[i])"
   ]
  },
  {
   "cell_type": "code",
   "execution_count": 17,
   "metadata": {},
   "outputs": [
    {
     "name": "stdout",
     "output_type": "stream",
     "text": [
      "1\n",
      "spruce\n"
     ]
    }
   ],
   "source": [
    "prediction = model.predict([prepare('Test/spruce3.jpg')])\n",
    "if prediction < 0.5: i = 0\n",
    "else: i = 1\n",
    "print(i)\n",
    "print(CATEGORIES[i])"
   ]
  },
  {
   "cell_type": "code",
   "execution_count": 18,
   "metadata": {
    "scrolled": true
   },
   "outputs": [
    {
     "name": "stdout",
     "output_type": "stream",
     "text": [
      "1\n",
      "spruce\n"
     ]
    }
   ],
   "source": [
    "prediction = model.predict([prepare('Test/spruce4.jpg')])\n",
    "if prediction < 0.5: i = 0\n",
    "else: i = 1\n",
    "print(i)\n",
    "print(CATEGORIES[i])"
   ]
  }
 ],
 "metadata": {
  "kernelspec": {
   "display_name": "Python 3",
   "language": "python",
   "name": "python3"
  },
  "language_info": {
   "codemirror_mode": {
    "name": "ipython",
    "version": 3
   },
   "file_extension": ".py",
   "mimetype": "text/x-python",
   "name": "python",
   "nbconvert_exporter": "python",
   "pygments_lexer": "ipython3",
   "version": "3.7.3"
  }
 },
 "nbformat": 4,
 "nbformat_minor": 2
}
